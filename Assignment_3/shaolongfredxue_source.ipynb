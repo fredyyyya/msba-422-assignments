{
 "cells": [
  {
   "cell_type": "markdown",
   "id": "65d8603b",
   "metadata": {},
   "source": [
    "## 452 Assignment 3 - Coding Part"
   ]
  },
  {
   "cell_type": "code",
   "execution_count": 171,
   "id": "69310a0a",
   "metadata": {},
   "outputs": [],
   "source": [
    "from bs4 import BeautifulSoup, SoupStrainer\n",
    "import requests\n",
    "import time\n",
    "import re\n",
    "import os"
   ]
  },
  {
   "cell_type": "markdown",
   "id": "4407ac0d",
   "metadata": {},
   "source": [
    "### Question 1 - Load the page"
   ]
  },
  {
   "cell_type": "code",
   "execution_count": 33,
   "id": "1cec7d7f",
   "metadata": {},
   "outputs": [],
   "source": [
    "# setting up the main parent url\n",
    "URL_parent = \"https://www.barnesandnoble.com\"\n",
    "\n",
    "# regular prep\n",
    "URL = \"https://www.barnesandnoble.com/b/books/_/N-1fZ29Z8q8?Nrpp=40&page=1\"\n",
    "user_agent = {'User-agent': 'Mozilla/5.0'} \n",
    "page = requests.get(URL, headers = user_agent)"
   ]
  },
  {
   "cell_type": "markdown",
   "id": "3b28badc",
   "metadata": {},
   "source": [
    "### Question 2 - Create a list of urls"
   ]
  },
  {
   "cell_type": "code",
   "execution_count": 80,
   "id": "6ecf363e",
   "metadata": {},
   "outputs": [],
   "source": [
    "doc = BeautifulSoup(page.content, 'html.parser')\n",
    "\n",
    "# selecting based on the <a> tag following a common <div> for all 40 books\n",
    "top40 = doc.select('div.product-shelf-image.product-image > a')"
   ]
  },
  {
   "cell_type": "code",
   "execution_count": 89,
   "id": "137550ea",
   "metadata": {},
   "outputs": [
    {
     "name": "stdout",
     "output_type": "stream",
     "text": [
      "https://www.barnesandnoble.com/w/a-curse-for-true-love-stephanie-garber/1142831119;jsessionid=C79D3743ABECB11DAEB37383251794C4.prodny_store01-va18?ean=9781250908452\n"
     ]
    }
   ],
   "source": [
    "# preparing the list to store just the url info\n",
    "top40url = []\n",
    "\n",
    "# looping through the bs4 resultset\n",
    "for i in top40:\n",
    "    top40url = top40url + [URL_parent + i['href']]"
   ]
  },
  {
   "cell_type": "code",
   "execution_count": 95,
   "id": "5605641c",
   "metadata": {},
   "outputs": [
    {
     "name": "stdout",
     "output_type": "stream",
     "text": [
      "40\n",
      "['https://www.barnesandnoble.com/w/a-curse-for-true-love-stephanie-garber/1142831119;jsessionid=C79D3743ABECB11DAEB37383251794C4.prodny_store01-va18?ean=9781250908452', 'https://www.barnesandnoble.com/w/throne-of-the-fallen-kerri-maniscalco/1142915833;jsessionid=C79D3743ABECB11DAEB37383251794C4.prodny_store01-va18?ean=9780316568920', 'https://www.barnesandnoble.com/w/the-brothers-hawthorne-jennifer-lynn-barnes/1142336901;jsessionid=C79D3743ABECB11DAEB37383251794C4.prodny_store01-va18?ean=9780316565233']\n"
     ]
    }
   ],
   "source": [
    "# showing the length of the list \n",
    "print(len(top40url))\n",
    "\n",
    "# showing the url of the first three books\n",
    "print(top40url[0:3])"
   ]
  },
  {
   "cell_type": "markdown",
   "id": "0db0c5e8",
   "metadata": {},
   "source": [
    "### Question 3 - Download the pages"
   ]
  },
  {
   "cell_type": "code",
   "execution_count": 148,
   "id": "c20d0efa",
   "metadata": {},
   "outputs": [],
   "source": [
    "for i in range(len(top40url)):\n",
    "    \n",
    "    # 5-second pause\n",
    "    time.sleep(5)\n",
    "    \n",
    "    website = requests.get(top40url[i], headers = user_agent)\n",
    "    book = BeautifulSoup(website.content, 'html.parser')\n",
    "    html = open(\"bn_top40_\" + str(i+1) + \".html\", \"w\")\n",
    "    html.write(str(book.prettify()))\n",
    "    html.close()"
   ]
  },
  {
   "cell_type": "markdown",
   "id": "b76ce5d3",
   "metadata": {},
   "source": [
    "### Question 4 - Screen prints"
   ]
  },
  {
   "cell_type": "code",
   "execution_count": 192,
   "id": "bec81d6a",
   "metadata": {},
   "outputs": [
    {
     "name": "stdout",
     "output_type": "stream",
     "text": [
      "              Two villains do battle for the heart of one girl in A CURSE FOR TRUE LOVE, the deadly \n",
      "               The adult debut of #1 New York Times bestselling author Kerri Maniscalco,            \n",
      "               Four brothers. Two missions. One explosive read. Jennifer Lynn Barnes returns to the \n",
      "               A couple who broke up months ago pretend to still be together for their annual weeklo\n",
      "                 She's the wife he never wanted...and the weakness he never saw coming.             \n",
      "              Nash Morgan was always known as the good Morgan brother, with a smile and a wink for e\n",
      "              Too bad Lina's got secrets of her own, and if Nash finds out the real reason she's in \n",
      "              Callahan             \n",
      "              I'm the Kane brother everyone gossips about behind closed doors.             \n",
      "              Trust fund brat. Washed-up athlete. High-functioning alcoholic.             \n",
      "              No one knows the real me but her.             \n",
      "              Lana Castillo—my childhood best friend and the only woman I ever loved.             \n",
      "              When I broke her heart six years ago, I promised to never return to Lake Wisteria.    \n",
      "              I kept my word until my grandfather's will changed everything.             \n",
      "              To receive my inheritance, I was tasked with spending a summer at the family lake hous\n",
      "              The request was simple in theory until my entire plan blew up on the very first day.  \n",
      "              Turns out Lana doesn't just live at the house, but she claims to own it, too.         \n",
      "              Alana             \n",
      "              Falling in love with Callahan Kane was a mistake.             \n",
      "              He told me so before destroying my heart and our friendship six summers ago.          \n",
      "              When he promised never to come back, I foolishly believed him.             \n",
      "              But then Cal showed up again, intending to sell his grandfather's lake house.         \n",
      "              The biggest flaw in his plan?             \n",
      "              My name is on the deed.             \n",
      "\n",
      "              \"As told by the author herself, this is all for our misunderstood villains. But don't \n",
      "              Hallie Welch fell hard for Julian Vos at fourteen, after they                         \n",
      "              On sabbatical from his ivy league job, Julian plans to write a novel. But having Halli\n",
      "              \"Millions of eyes were suddenly upon us, creating a picture I will never forget.\"—Paul\n",
      "              Taken with a 35mm camera by Paul McCartney, these largely unseen photographs capture t\n",
      "              Handsomely designed,                             1964: Eyes of the Storm              \n",
      "              \"You could hold your camera up to the world, in 1964. But what madness would you captu\n",
      "               The captivating sequel to the Gothic-infused                               Belladonna\n",
      "               The stunning, standalone prequel to the                               New York Times \n",
      "              Authors June Hayward and Athena Liu were supposed to be twin rising stars: same year a\n",
      "              So when June witnesses Athena’s death in a freak accident, she acts on impulse: she st\n",
      "              So what if June edits Athena’s novel and sends it to her agent as her own work? So wha\n",
      "              But June can’t get away from Athena’s shadow, and emerging evidence threatens to bring\n",
      "              With its totally immersive first-person voice,                             Yellowface \n",
      "                New York Times                              bestselling author TJ Klune invites you \n",
      "               A modern masterpiece, this is a classic Gothic thriller-fantasy from                 \n",
      "              After losing her job and her fiancé in one fell swoop, Natalie Vos returned home to li\n",
      "              August Cates may own a vineyard, but he doesn’t know jack about making wine. He’s dete\n",
      "              Now, a quickie marriage could help them both. A sham wedding, a few weeks living under\n",
      "              *A scorchingly hot modern retelling of Apollo and Cassandra.*             \n",
      "              As a disgraced member of a fallen house, Cassandra Gataki has seen firsthand what come\n",
      "              On one condition: when it's all over, and Apollo has the ammunition he needs to protec\n",
      "              Apollo may be the city's official spymaster, but it's his ability to inspire others th\n",
      "              \"Deliciously inventive…Red-hot.\"—                             Publishers Weekly       \n",
      "              \"I get shivers just thinking of their interactions. SHIVERS.\"—Mimi Koehler for        \n",
      "               The World of Dark Olympus:              \n",
      "              Neon Gods (Hades & Persephone)             \n",
      "              Electric Idol (Eros & Psyche)             \n",
      "              Wicked Beauty (Achilles & Patroclus & Helen)             \n",
      "              Radiant Sin (Apollo & Cassandra)             \n",
      "               The heart is a battlefield.              \n",
      "              All Talasyn has ever known is the Hurricane Wars. Growing up an orphan in a nation und\n",
      "              Prince Alaric, the emperor’s only son and heir, has been forged into a weapon by his f\n",
      "              Talasyn and Alaric both know this war can only end with them. But a greater threat is \n",
      "              An exquisite fantasy brimming with unforgettable characters, sizzling enemies-to-lover\n",
      "               A                               NEW YORK TIMES,                               USA TOD\n",
      "               This Barnes & Noble Exclusive Edition includes an altered colored cover with silver f\n",
      "               In this lush, romantic new epic fantasy series from                               New\n",
      "              The original heroes from                             The Lightning Thief              \n",
      "              The first quest is to help Zeus's cup-bearer retrieve his goblet before it falls into \n",
      "              Readers new to Percy Jackson and fans who have been awaiting this reunion for more tha\n",
      "               THE TRIO IS BACK                            in this first new Percy adventure since  \n",
      "               MORE LAUGHS, DANGER, MONSTERS, AND GODS                            in a story told fr\n",
      "               PERCY AND ANNABETH ARE SENIORS!                            Fans who grew up on the se\n",
      "               TIMED TO COINCIDE WITH DISNEY+ SERIES                            based on            \n",
      "               A                               NEW YORK TIMES, USA TODAY,                           \n"
     ]
    }
   ],
   "source": [
    "for i in range(1,len(top40url)+1):\n",
    "    file = open(\"bn_top40_\" + str(i) + \".html\", \"r\", encoding = 'utf-8').read()\n",
    "    content = BeautifulSoup(file, 'html.parser')\n",
    "    overview = content.select('div.overview-cntnt > p')\n",
    "    \n",
    "    for j in overview:\n",
    "        result = re.sub(\"\\n\", \"\", j.text)[0:100]\n",
    "        print(result)"
   ]
  }
 ],
 "metadata": {
  "kernelspec": {
   "display_name": "Python 3 (ipykernel)",
   "language": "python",
   "name": "python3"
  },
  "language_info": {
   "codemirror_mode": {
    "name": "ipython",
    "version": 3
   },
   "file_extension": ".py",
   "mimetype": "text/x-python",
   "name": "python",
   "nbconvert_exporter": "python",
   "pygments_lexer": "ipython3",
   "version": "3.10.7"
  }
 },
 "nbformat": 4,
 "nbformat_minor": 5
}
